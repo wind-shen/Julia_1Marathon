{
 "cells": [
  {
   "cell_type": "markdown",
   "metadata": {},
   "source": [
    "# Julia 函式 (Functions)\n",
    "\n",
    "## 作業 006：身高體重指數 (Body Mass Index; BMI) 計算機\n",
    "\n",
    "身高體重指數 (Body Mass Index; BMI) 是我們常用來衡量健康的指標之一，例如肥胖是否為某一種疾病的致病原因。請用 Julia 函式撰寫 BMI 計算公式，並呼叫函式計算 BMI 值。\n",
    "\n",
    "BMI 計算公式：\n",
    "$$BMI=\\frac{體重}{身高^2}$$\n",
    "其中體重的單位為公斤，身高的單位為公尺。"
   ]
  },
  {
   "cell_type": "code",
   "execution_count": 1,
   "metadata": {},
   "outputs": [
    {
     "data": {
      "text/plain": [
       "BMI (generic function with 1 method)"
      ]
     },
     "execution_count": 1,
     "metadata": {},
     "output_type": "execute_result"
    }
   ],
   "source": [
    "function BMI(weight, height)\n",
    "    return weight / height^2\n",
    "end"
   ]
  },
  {
   "cell_type": "code",
   "execution_count": 2,
   "metadata": {},
   "outputs": [
    {
     "name": "stdout",
     "output_type": "stream",
     "text": [
      "James的 BMI 為 21.218317194552675\n"
     ]
    }
   ],
   "source": [
    "println(\"James的 BMI 為 \", BMI(55, 1.61))"
   ]
  },
  {
   "cell_type": "markdown",
   "metadata": {},
   "source": [
    "依照國民健康署建議，以 BMI 來判斷肥胖程度的標準如下：\n",
    "\n",
    "|成人肥胖定義\t|BMI|\n",
    "|---|---|\n",
    "|體重過輕|\tBMI < 18.5\t |\n",
    "|健康體重|\t18.5 <= BMI < 24|\n",
    "|體重過重|24 <= BMI < 27|\n",
    "|肥胖|27 <= BMI|\n",
    "\n",
    "(資料來源：[https://www.hpa.gov.tw/Pages/Detail.aspx?nodeid=542&pid=9737](https://www.hpa.gov.tw/Pages/Detail.aspx?nodeid=542&pid=9737))\n",
    "\n",
    "根據媒體報導蔡依林的身高體重，我們可以再次呼叫 BMI 函式計算她的 BMI。"
   ]
  },
  {
   "cell_type": "code",
   "execution_count": 3,
   "metadata": {},
   "outputs": [
    {
     "data": {
      "text/plain": [
       "16.423650056080753"
      ]
     },
     "execution_count": 3,
     "metadata": {},
     "output_type": "execute_result"
    }
   ],
   "source": [
    "蔡依林BMI = BMI(41, 1.58)"
   ]
  },
  {
   "cell_type": "code",
   "execution_count": 4,
   "metadata": {},
   "outputs": [
    {
     "name": "stdout",
     "output_type": "stream",
     "text": [
      "BMI: 16.423650056080753\n",
      "蔡依林體重過輕"
     ]
    }
   ],
   "source": [
    "println(\"BMI: \", 蔡依林BMI)\n",
    "print(\"蔡依林\")\n",
    "\n",
    "if 蔡依林BMI < 18.5\n",
    "    print(\"體重過輕\")\n",
    "elseif 蔡依林BMI < 24\n",
    "    print(\"健康體重\")\n",
    "elseif 蔡依林BMI < 27\n",
    "    print(\"體重過重\")\n",
    "else\n",
    "    print(\"肥胖\")\n",
    "end"
   ]
  },
  {
   "cell_type": "code",
   "execution_count": null,
   "metadata": {},
   "outputs": [],
   "source": []
  }
 ],
 "metadata": {
  "kernelspec": {
   "display_name": "Julia 1.2.0",
   "language": "julia",
   "name": "julia-1.2"
  },
  "language_info": {
   "file_extension": ".jl",
   "mimetype": "application/julia",
   "name": "julia",
   "version": "1.2.0"
  }
 },
 "nbformat": 4,
 "nbformat_minor": 4
}
