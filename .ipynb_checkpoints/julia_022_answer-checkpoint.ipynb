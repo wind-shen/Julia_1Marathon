{
 "cells": [
  {
   "cell_type": "markdown",
   "metadata": {},
   "source": [
    "# Julia 基礎圖表繪製：Gadfly 二維資料圖表\n",
    "\n",
    "## 作業 022"
   ]
  },
  {
   "cell_type": "markdown",
   "metadata": {},
   "source": [
    "1. 散佈圖是二維資料的圖表表示，思考它適合用於展現資料的什麼特性？"
   ]
  },
  {
   "cell_type": "markdown",
   "metadata": {},
   "source": [
    "參考解答：散佈圖適合用於呈現兩個連續型資料之間的關係。連續型資料之間常常會有存在關係性，而這些關係性正是我們想要尋找的對象，我們可以利用散佈圖來呈現這樣的關係。連續型資料之間也可能發現資料會有群聚的現象，而這些群可以作為分類的用途。藉由找到資料之間的關係性，我們可以建構一個迴歸模型來進行預測，對於群聚的資料，我們則可以建構一個分類模型來進行預測。"
   ]
  },
  {
   "cell_type": "markdown",
   "metadata": {},
   "source": [
    "2. 比較密度分佈圖與熱圖分別適合用於什麼樣的資料。[hint: 從資料的種類切入思考]"
   ]
  },
  {
   "cell_type": "markdown",
   "metadata": {},
   "source": [
    "參考解答：兩者的差別在於資料上，密度分佈圖適合用於兩個軸都是連續型資料，熱圖適合用於兩個軸都是類別型資料，然而兩者呈現的都是資料的空間分佈關係，或者稱為密度。若是密度越高，顏色則通常會趨近紅色，反之則是藍色。"
   ]
  },
  {
   "cell_type": "code",
   "execution_count": null,
   "metadata": {},
   "outputs": [],
   "source": []
  }
 ],
 "metadata": {
  "kernelspec": {
   "display_name": "Julia 1.2.0",
   "language": "julia",
   "name": "julia-1.2"
  },
  "language_info": {
   "file_extension": ".jl",
   "mimetype": "application/julia",
   "name": "julia",
   "version": "1.2.0"
  }
 },
 "nbformat": 4,
 "nbformat_minor": 4
}
