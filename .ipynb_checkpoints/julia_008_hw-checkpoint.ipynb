{
 "cells": [
  {
   "cell_type": "markdown",
   "metadata": {},
   "source": [
    "# Julia 字元 (Char) 與字串 (String)\n",
    "\n",
    "## Day 008 作業：讀取使用者輸入字串，並印出每個字元\n",
    "\n",
    "1. 使用 `readline()` 函式，讀取使用者輸入之字串。`readline()`是從 console 讀取使用者輸入的方式，讀進來的資料型別為字串，`readline()`的說明可參照官方文件 [Base.readline](https://docs.julialang.org/en/v1/base/io-network/#Base.readline)"
   ]
  },
  {
   "cell_type": "code",
   "execution_count": 31,
   "metadata": {},
   "outputs": [
    {
     "name": "stdin",
     "output_type": "stream",
     "text": [
      "stdin>  qwertyuiopasdfghjklzxcvbnm!@#$%^&*()\n"
     ]
    },
    {
     "data": {
      "text/plain": [
       "\"qwertyuiopasdfghjklzxcvbnm!@#\\$%^&*()\""
      ]
     },
     "execution_count": 31,
     "metadata": {},
     "output_type": "execute_result"
    }
   ],
   "source": [
    "str = readline(stdin)"
   ]
  },
  {
   "cell_type": "markdown",
   "metadata": {},
   "source": [
    "2. 印出字串中所有字元。"
   ]
  },
  {
   "cell_type": "code",
   "execution_count": 32,
   "metadata": {},
   "outputs": [
    {
     "name": "stdout",
     "output_type": "stream",
     "text": [
      "q\n",
      "w\n",
      "e\n",
      "r\n",
      "t\n",
      "y\n",
      "u\n",
      "i\n",
      "o\n",
      "p\n",
      "a\n",
      "s\n",
      "d\n",
      "f\n",
      "g\n",
      "h\n",
      "j\n",
      "k\n",
      "l\n",
      "z\n",
      "x\n",
      "c\n",
      "v\n",
      "b\n",
      "n\n",
      "m\n",
      "!\n",
      "@\n",
      "#\n",
      "$\n",
      "%\n",
      "^\n",
      "&\n",
      "*\n",
      "(\n",
      ")\n"
     ]
    }
   ],
   "source": [
    "# 程式碼\n",
    "for i=1:length(str)\n",
    "    println(str[i])\n",
    "end\n"
   ]
  },
  {
   "cell_type": "code",
   "execution_count": null,
   "metadata": {},
   "outputs": [],
   "source": []
  }
 ],
 "metadata": {
  "kernelspec": {
   "display_name": "Julia 1.2.0",
   "language": "julia",
   "name": "julia-1.2"
  },
  "language_info": {
   "file_extension": ".jl",
   "mimetype": "application/julia",
   "name": "julia",
   "version": "1.2.0"
  }
 },
 "nbformat": 4,
 "nbformat_minor": 4
}
