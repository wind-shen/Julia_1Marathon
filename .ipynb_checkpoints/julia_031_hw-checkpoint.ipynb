{
 "cells": [
  {
   "cell_type": "markdown",
   "metadata": {},
   "source": [
    "# Julia 深度學習：可微分程式設計\n",
    "\n",
    "## 作業 031：對神經網路層微分\n",
    "\n",
    "請自行撰寫一個型別，型別代表神經網路的一層運算，並且對它微分。神經網路層的一般式如下：\n",
    "\n",
    "$$\n",
    "y = \\sigma (Wx + b)\n",
    "$$\n",
    "\n",
    "其中 `W` 為參數矩陣，`b` 為參數向量，`x` 為輸入向量，`y` 為輸出向量。要取得向量的微分值，需要將向量縮減為純量，如下：\n",
    "\n",
    "```\n",
    "gradient(x -> sum(y), 1)\n",
    "```"
   ]
  },
  {
   "cell_type": "code",
   "execution_count": 1,
   "metadata": {},
   "outputs": [],
   "source": [
    "using Zygote"
   ]
  },
  {
   "cell_type": "code",
   "execution_count": 2,
   "metadata": {},
   "outputs": [],
   "source": [
    "struct DNN\n",
    "    W::Matrix\n",
    "    b::Vector\n",
    "end"
   ]
  },
  {
   "cell_type": "code",
   "execution_count": 3,
   "metadata": {},
   "outputs": [],
   "source": [
    "(l::DNN)(x) = identity(l.W*x + l.b)"
   ]
  },
  {
   "cell_type": "code",
   "execution_count": 7,
   "metadata": {},
   "outputs": [
    {
     "data": {
      "text/plain": [
       "DNN([0.4839830647169032 0.5550932556728065 0.7252743059405129; 0.2508604863251267 0.4137822092690231 0.8460320898334688], [0.01822921051770776, 0.5386066891239849])"
      ]
     },
     "execution_count": 7,
     "metadata": {},
     "output_type": "execute_result"
    }
   ],
   "source": [
    "l = DNN(rand(2,3), rand(2))"
   ]
  },
  {
   "cell_type": "code",
   "execution_count": 8,
   "metadata": {},
   "outputs": [
    {
     "data": {
      "text/plain": [
       "2-element Array{Float64,1}:\n",
       " 1.041065431792304\n",
       " 1.389115557315956"
      ]
     },
     "execution_count": 8,
     "metadata": {},
     "output_type": "execute_result"
    }
   ],
   "source": [
    "l(rand(3))"
   ]
  },
  {
   "cell_type": "code",
   "execution_count": 10,
   "metadata": {},
   "outputs": [
    {
     "data": {
      "text/plain": [
       "([0.7348435510420299, 0.9688754649418296, 1.5713063957739817],)"
      ]
     },
     "execution_count": 10,
     "metadata": {},
     "output_type": "execute_result"
    }
   ],
   "source": [
    "gradient(x -> sum(l(x)), rand(3))"
   ]
  },
  {
   "cell_type": "code",
   "execution_count": null,
   "metadata": {},
   "outputs": [],
   "source": []
  }
 ],
 "metadata": {
  "kernelspec": {
   "display_name": "Julia 1.4.0",
   "language": "julia",
   "name": "julia-1.4"
  },
  "language_info": {
   "file_extension": ".jl",
   "mimetype": "application/julia",
   "name": "julia",
   "version": "1.4.0"
  }
 },
 "nbformat": 4,
 "nbformat_minor": 4
}
