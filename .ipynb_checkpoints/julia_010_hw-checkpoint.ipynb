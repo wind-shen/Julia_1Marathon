{
 "cells": [
  {
   "cell_type": "markdown",
   "metadata": {
    "colab_type": "text",
    "id": "7BtseMUwzMw6"
   },
   "source": [
    "# 集合 (Collection) 型別：元組 (Tuple) 、Pair、字典 (Dict)、與 Set\n",
    "\n",
    "## Day 010 作業：計算字串中各宇元出現的次數\n",
    "\n",
    "今天的作業請大家計算字串中，各字元 (包含標點符號與換行符號) 出現的次數。範例解答將以字典 (Dict) 示範，將出現在字串中的字元作為 key，字元每出現一次就將對應的 value 次數加 1。最後，印出各字元及出現的次數。\n",
    "\n",
    "【提示】要判斷字典中某個 key 是否存在，可以呼叫 `hashkey(字典, key)`，若 key 存在的話就會回傳 `true`。使用範例請參閱官方文件 [https://docs.julialang.org/en/v1/base/collections/#Base.haskey](https://docs.julialang.org/en/v1/base/collections/#Base.haskey)"
   ]
  },
  {
   "cell_type": "code",
   "execution_count": 14,
   "metadata": {
    "colab": {},
    "colab_type": "code",
    "id": "2F_ZiR34zMw7",
    "outputId": "ecdf19de-e303-44a3-e632-58b8fe6801e7"
   },
   "outputs": [
    {
     "data": {
      "text/plain": [
       "\"永和有永和路，中和也有永和路，\\n中和有中和路，永和也有中和路；\\n中和的中和路有接永和的中和路，\\n永和的永和路沒接中和的永和路；\\n永和的中和路有接永和的永和路，\\n中和的永和路沒接中和的中和路。\""
      ]
     },
     "execution_count": 14,
     "metadata": {},
     "output_type": "execute_result"
    }
   ],
   "source": [
    "str = \"永和有永和路，中和也有永和路，\n",
    "中和有中和路，永和也有中和路；\n",
    "中和的中和路有接永和的中和路，\n",
    "永和的永和路沒接中和的永和路；\n",
    "永和的中和路有接永和的永和路，\n",
    "中和的永和路沒接中和的中和路。\""
   ]
  },
  {
   "cell_type": "code",
   "execution_count": 75,
   "metadata": {
    "colab": {},
    "colab_type": "code",
    "id": "ocOvdS0ezMxA"
   },
   "outputs": [
    {
     "data": {
      "text/plain": [
       "Dict{Char,Int64} with 13 entries:\n",
       "  '和'  => 0\n",
       "  '有'  => 0\n",
       "  '路'  => 0\n",
       "  '。'  => 0\n",
       "  '中'  => 0\n",
       "  '也'  => 0\n",
       "  '\\n' => 0\n",
       "  '，'  => 0\n",
       "  '接'  => 0\n",
       "  '的'  => 0\n",
       "  '沒'  => 0\n",
       "  '；'  => 0\n",
       "  '永'  => 0"
      ]
     },
     "execution_count": 75,
     "metadata": {},
     "output_type": "execute_result"
    }
   ],
   "source": [
    "dr = Dict('永'=>0, '和'=>0, '路'=>0, '中'=>0, '有'=>0, '也'=>0, '，'=>0, '；'=>0, '接'=>0, '。'=>0, '\\n'=>0, '沒'=>0, '的'=>0)"
   ]
  },
  {
   "cell_type": "code",
   "execution_count": 76,
   "metadata": {},
   "outputs": [
    {
     "name": "stdout",
     "output_type": "stream",
     "text": [
      "字元數目：95\n",
      "索引長度：273\n"
     ]
    }
   ],
   "source": [
    "println(\"字元數目：\", length(str))\n",
    "println(\"索引長度：\", lastindex(str) - firstindex(str) + 1)"
   ]
  },
  {
   "cell_type": "code",
   "execution_count": 77,
   "metadata": {},
   "outputs": [],
   "source": [
    "stridx = []\n",
    "i = 0\n",
    "\n",
    "while i < lastindex(str)\n",
    "    i = nextind(str, i)\n",
    "    push!(stridx, i)\n",
    "end"
   ]
  },
  {
   "cell_type": "code",
   "execution_count": 78,
   "metadata": {},
   "outputs": [
    {
     "name": "stdout",
     "output_type": "stream",
     "text": [
      "字元數目：95\n",
      "索引長度：95\n"
     ]
    }
   ],
   "source": [
    "println(\"字元數目：\", length(stridx))\n",
    "println(\"索引長度：\", lastindex(stridx) - firstindex(stridx) + 1)"
   ]
  },
  {
   "cell_type": "code",
   "execution_count": 79,
   "metadata": {},
   "outputs": [
    {
     "name": "stdout",
     "output_type": "stream",
     "text": [
      "永和有永和路，中和也有永和路，\n",
      "中和有中和路，永和也有中和路；\n",
      "中和的中和路有接永和的中和路，\n",
      "永和的永和路沒接中和的永和路；\n",
      "永和的中和路有接永和的永和路，\n",
      "中和的永和路沒接中和的中和路。"
     ]
    }
   ],
   "source": [
    "# stridx[] = 1 4 7 10 ....270 273\n",
    "for j in stridx\n",
    "    print(str[j])\n",
    "end"
   ]
  },
  {
   "cell_type": "markdown",
   "metadata": {},
   "source": [
    "## 搜尋字元是否在字串內，可使用 in 或是 ∈"
   ]
  },
  {
   "cell_type": "code",
   "execution_count": 80,
   "metadata": {},
   "outputs": [],
   "source": [
    "for k in stridx\n",
    "   if haskey(dr, str[k])\n",
    "        dr[str[k]] += 1\n",
    "    end\n",
    "end    "
   ]
  },
  {
   "cell_type": "code",
   "execution_count": 81,
   "metadata": {},
   "outputs": [
    {
     "data": {
      "text/plain": [
       "Dict{Char,Int64} with 13 entries:\n",
       "  '和'  => 24\n",
       "  '有'  => 6\n",
       "  '路'  => 12\n",
       "  '。'  => 1\n",
       "  '中'  => 12\n",
       "  '也'  => 2\n",
       "  '\\n' => 5\n",
       "  '，'  => 5\n",
       "  '接'  => 4\n",
       "  '的'  => 8\n",
       "  '沒'  => 2\n",
       "  '；'  => 2\n",
       "  '永'  => 12"
      ]
     },
     "execution_count": 81,
     "metadata": {},
     "output_type": "execute_result"
    }
   ],
   "source": [
    "#values(dr)\n",
    "dr"
   ]
  },
  {
   "cell_type": "code",
   "execution_count": null,
   "metadata": {},
   "outputs": [],
   "source": []
  }
 ],
 "metadata": {
  "@webio": {
   "lastCommId": null,
   "lastKernelId": null
  },
  "colab": {
   "name": "julia_010_hw.ipynb",
   "provenance": []
  },
  "kernelspec": {
   "display_name": "Julia 1.2.0",
   "language": "julia",
   "name": "julia-1.2"
  },
  "language_info": {
   "file_extension": ".jl",
   "mimetype": "application/julia",
   "name": "julia",
   "version": "1.2.0"
  }
 },
 "nbformat": 4,
 "nbformat_minor": 1
}
