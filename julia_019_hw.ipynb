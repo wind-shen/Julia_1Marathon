{
 "cells": [
  {
   "cell_type": "markdown",
   "metadata": {
    "colab_type": "text",
    "id": "CymtLvLsl4iT"
   },
   "source": [
    "## Day 019 作業：DataFrame 的排序及顯示\n",
    "\n",
    "同 Day 017，請載入 2020/4/2 COVID-19 Daily Report 資料集，計算每個國家/區域的累計確診人數。\n",
    "\n",
    "請依確診案例數，列出截至4月2日為止 (UTC 時間)，確診案例最多的10個國家/區域。"
   ]
  },
  {
   "cell_type": "code",
   "execution_count": 6,
   "metadata": {
    "colab": {},
    "colab_type": "code",
    "id": "czd81DRQl4iW"
   },
   "outputs": [],
   "source": [
    "using DataFrames, CSV"
   ]
  },
  {
   "cell_type": "code",
   "execution_count": 7,
   "metadata": {
    "colab": {},
    "colab_type": "code",
    "id": "sLp0Kx89l4ic"
   },
   "outputs": [
    {
     "data": {
      "text/html": [
       "<table class=\"data-frame\"><thead><tr><th></th><th>FIPS</th><th>Admin2</th><th>Province_State</th><th>Country_Region</th><th>Last_Update</th><th>Lat</th><th>Long_</th></tr><tr><th></th><th>Int64⍰</th><th>String⍰</th><th>String⍰</th><th>String</th><th>String</th><th>Float64⍰</th><th>Float64⍰</th></tr></thead><tbody><p>2,569 rows × 12 columns (omitted printing of 5 columns)</p><tr><th>1</th><td>45001</td><td>Abbeville</td><td>South Carolina</td><td>US</td><td>4/2/20 23:25</td><td>34.2233</td><td>-82.4617</td></tr><tr><th>2</th><td>22001</td><td>Acadia</td><td>Louisiana</td><td>US</td><td>4/2/20 23:25</td><td>30.2951</td><td>-92.4142</td></tr><tr><th>3</th><td>51001</td><td>Accomack</td><td>Virginia</td><td>US</td><td>4/2/20 23:25</td><td>37.7671</td><td>-75.6323</td></tr><tr><th>4</th><td>16001</td><td>Ada</td><td>Idaho</td><td>US</td><td>4/2/20 23:25</td><td>43.4527</td><td>-116.242</td></tr><tr><th>5</th><td>19001</td><td>Adair</td><td>Iowa</td><td>US</td><td>4/2/20 23:25</td><td>41.3308</td><td>-94.4711</td></tr><tr><th>6</th><td>29001</td><td>Adair</td><td>Missouri</td><td>US</td><td>4/2/20 23:25</td><td>40.1906</td><td>-92.6008</td></tr><tr><th>7</th><td>40001</td><td>Adair</td><td>Oklahoma</td><td>US</td><td>4/2/20 23:25</td><td>35.8849</td><td>-94.6586</td></tr><tr><th>8</th><td>8001</td><td>Adams</td><td>Colorado</td><td>US</td><td>4/2/20 23:25</td><td>39.8743</td><td>-104.336</td></tr><tr><th>9</th><td>16003</td><td>Adams</td><td>Idaho</td><td>US</td><td>4/2/20 23:25</td><td>44.8933</td><td>-116.455</td></tr><tr><th>10</th><td>17001</td><td>Adams</td><td>Illinois</td><td>US</td><td>4/2/20 23:25</td><td>39.9882</td><td>-91.1879</td></tr><tr><th>11</th><td>18001</td><td>Adams</td><td>Indiana</td><td>US</td><td>4/2/20 23:25</td><td>40.7458</td><td>-84.9367</td></tr><tr><th>12</th><td>28001</td><td>Adams</td><td>Mississippi</td><td>US</td><td>4/2/20 23:25</td><td>31.4767</td><td>-91.3533</td></tr><tr><th>13</th><td>31001</td><td>Adams</td><td>Nebraska</td><td>US</td><td>4/2/20 23:25</td><td>40.5245</td><td>-98.5012</td></tr><tr><th>14</th><td>42001</td><td>Adams</td><td>Pennsylvania</td><td>US</td><td>4/2/20 23:25</td><td>39.8714</td><td>-77.2161</td></tr><tr><th>15</th><td>53001</td><td>Adams</td><td>Washington</td><td>US</td><td>4/2/20 23:25</td><td>46.983</td><td>-118.56</td></tr><tr><th>16</th><td>55001</td><td>Adams</td><td>Wisconsin</td><td>US</td><td>4/2/20 23:25</td><td>43.9697</td><td>-89.7678</td></tr><tr><th>17</th><td>50001</td><td>Addison</td><td>Vermont</td><td>US</td><td>4/2/20 23:25</td><td>44.0322</td><td>-73.1413</td></tr><tr><th>18</th><td>45003</td><td>Aiken</td><td>South Carolina</td><td>US</td><td>4/2/20 23:25</td><td>33.5434</td><td>-81.6365</td></tr><tr><th>19</th><td>12001</td><td>Alachua</td><td>Florida</td><td>US</td><td>4/2/20 23:25</td><td>29.6787</td><td>-82.3593</td></tr><tr><th>20</th><td>37001</td><td>Alamance</td><td>North Carolina</td><td>US</td><td>4/2/20 23:25</td><td>36.0435</td><td>-79.3998</td></tr><tr><th>21</th><td>6001</td><td>Alameda</td><td>California</td><td>US</td><td>4/2/20 23:25</td><td>37.6463</td><td>-121.893</td></tr><tr><th>22</th><td>8003</td><td>Alamosa</td><td>Colorado</td><td>US</td><td>4/2/20 23:25</td><td>37.5725</td><td>-105.789</td></tr><tr><th>23</th><td>36001</td><td>Albany</td><td>New York</td><td>US</td><td>4/2/20 23:25</td><td>42.6006</td><td>-73.9772</td></tr><tr><th>24</th><td>56001</td><td>Albany</td><td>Wyoming</td><td>US</td><td>4/2/20 23:25</td><td>41.655</td><td>-105.724</td></tr><tr><th>25</th><td>51003</td><td>Albemarle</td><td>Virginia</td><td>US</td><td>4/2/20 23:25</td><td>38.0208</td><td>-78.5548</td></tr><tr><th>26</th><td>28003</td><td>Alcorn</td><td>Mississippi</td><td>US</td><td>4/2/20 23:25</td><td>34.8808</td><td>-88.58</td></tr><tr><th>27</th><td>37003</td><td>Alexander</td><td>North Carolina</td><td>US</td><td>4/2/20 23:25</td><td>35.9224</td><td>-81.1775</td></tr><tr><th>28</th><td>51510</td><td>Alexandria</td><td>Virginia</td><td>US</td><td>4/2/20 23:25</td><td>38.814</td><td>-77.0818</td></tr><tr><th>29</th><td>19005</td><td>Allamakee</td><td>Iowa</td><td>US</td><td>4/2/20 23:25</td><td>43.2838</td><td>-91.3786</td></tr><tr><th>30</th><td>26005</td><td>Allegan</td><td>Michigan</td><td>US</td><td>4/2/20 23:25</td><td>42.5915</td><td>-85.891</td></tr><tr><th>&vellip;</th><td>&vellip;</td><td>&vellip;</td><td>&vellip;</td><td>&vellip;</td><td>&vellip;</td><td>&vellip;</td><td>&vellip;</td></tr></tbody></table>"
      ],
      "text/latex": [
       "\\begin{tabular}{r|cccccccc}\n",
       "\t& FIPS & Admin2 & Province\\_State & Country\\_Region & Last\\_Update & Lat & Long\\_ & \\\\\n",
       "\t\\hline\n",
       "\t& Int64⍰ & String⍰ & String⍰ & String & String & Float64⍰ & Float64⍰ & \\\\\n",
       "\t\\hline\n",
       "\t1 & 45001 & Abbeville & South Carolina & US & 4/2/20 23:25 & 34.2233 & -82.4617 & $\\dots$ \\\\\n",
       "\t2 & 22001 & Acadia & Louisiana & US & 4/2/20 23:25 & 30.2951 & -92.4142 & $\\dots$ \\\\\n",
       "\t3 & 51001 & Accomack & Virginia & US & 4/2/20 23:25 & 37.7671 & -75.6323 & $\\dots$ \\\\\n",
       "\t4 & 16001 & Ada & Idaho & US & 4/2/20 23:25 & 43.4527 & -116.242 & $\\dots$ \\\\\n",
       "\t5 & 19001 & Adair & Iowa & US & 4/2/20 23:25 & 41.3308 & -94.4711 & $\\dots$ \\\\\n",
       "\t6 & 29001 & Adair & Missouri & US & 4/2/20 23:25 & 40.1906 & -92.6008 & $\\dots$ \\\\\n",
       "\t7 & 40001 & Adair & Oklahoma & US & 4/2/20 23:25 & 35.8849 & -94.6586 & $\\dots$ \\\\\n",
       "\t8 & 8001 & Adams & Colorado & US & 4/2/20 23:25 & 39.8743 & -104.336 & $\\dots$ \\\\\n",
       "\t9 & 16003 & Adams & Idaho & US & 4/2/20 23:25 & 44.8933 & -116.455 & $\\dots$ \\\\\n",
       "\t10 & 17001 & Adams & Illinois & US & 4/2/20 23:25 & 39.9882 & -91.1879 & $\\dots$ \\\\\n",
       "\t11 & 18001 & Adams & Indiana & US & 4/2/20 23:25 & 40.7458 & -84.9367 & $\\dots$ \\\\\n",
       "\t12 & 28001 & Adams & Mississippi & US & 4/2/20 23:25 & 31.4767 & -91.3533 & $\\dots$ \\\\\n",
       "\t13 & 31001 & Adams & Nebraska & US & 4/2/20 23:25 & 40.5245 & -98.5012 & $\\dots$ \\\\\n",
       "\t14 & 42001 & Adams & Pennsylvania & US & 4/2/20 23:25 & 39.8714 & -77.2161 & $\\dots$ \\\\\n",
       "\t15 & 53001 & Adams & Washington & US & 4/2/20 23:25 & 46.983 & -118.56 & $\\dots$ \\\\\n",
       "\t16 & 55001 & Adams & Wisconsin & US & 4/2/20 23:25 & 43.9697 & -89.7678 & $\\dots$ \\\\\n",
       "\t17 & 50001 & Addison & Vermont & US & 4/2/20 23:25 & 44.0322 & -73.1413 & $\\dots$ \\\\\n",
       "\t18 & 45003 & Aiken & South Carolina & US & 4/2/20 23:25 & 33.5434 & -81.6365 & $\\dots$ \\\\\n",
       "\t19 & 12001 & Alachua & Florida & US & 4/2/20 23:25 & 29.6787 & -82.3593 & $\\dots$ \\\\\n",
       "\t20 & 37001 & Alamance & North Carolina & US & 4/2/20 23:25 & 36.0435 & -79.3998 & $\\dots$ \\\\\n",
       "\t21 & 6001 & Alameda & California & US & 4/2/20 23:25 & 37.6463 & -121.893 & $\\dots$ \\\\\n",
       "\t22 & 8003 & Alamosa & Colorado & US & 4/2/20 23:25 & 37.5725 & -105.789 & $\\dots$ \\\\\n",
       "\t23 & 36001 & Albany & New York & US & 4/2/20 23:25 & 42.6006 & -73.9772 & $\\dots$ \\\\\n",
       "\t24 & 56001 & Albany & Wyoming & US & 4/2/20 23:25 & 41.655 & -105.724 & $\\dots$ \\\\\n",
       "\t25 & 51003 & Albemarle & Virginia & US & 4/2/20 23:25 & 38.0208 & -78.5548 & $\\dots$ \\\\\n",
       "\t26 & 28003 & Alcorn & Mississippi & US & 4/2/20 23:25 & 34.8808 & -88.58 & $\\dots$ \\\\\n",
       "\t27 & 37003 & Alexander & North Carolina & US & 4/2/20 23:25 & 35.9224 & -81.1775 & $\\dots$ \\\\\n",
       "\t28 & 51510 & Alexandria & Virginia & US & 4/2/20 23:25 & 38.814 & -77.0818 & $\\dots$ \\\\\n",
       "\t29 & 19005 & Allamakee & Iowa & US & 4/2/20 23:25 & 43.2838 & -91.3786 & $\\dots$ \\\\\n",
       "\t30 & 26005 & Allegan & Michigan & US & 4/2/20 23:25 & 42.5915 & -85.891 & $\\dots$ \\\\\n",
       "\t$\\dots$ & $\\dots$ & $\\dots$ & $\\dots$ & $\\dots$ & $\\dots$ & $\\dots$ & $\\dots$ &  \\\\\n",
       "\\end{tabular}\n"
      ],
      "text/plain": [
       "2569×12 DataFrame. Omitted printing of 8 columns\n",
       "│ Row  │ FIPS    │ Admin2     │ Province_State │ Country_Region       │\n",
       "│      │ \u001b[90mInt64⍰\u001b[39m  │ \u001b[90mString⍰\u001b[39m    │ \u001b[90mString⍰\u001b[39m        │ \u001b[90mString\u001b[39m               │\n",
       "├──────┼─────────┼────────────┼────────────────┼──────────────────────┤\n",
       "│ 1    │ 45001   │ Abbeville  │ South Carolina │ US                   │\n",
       "│ 2    │ 22001   │ Acadia     │ Louisiana      │ US                   │\n",
       "│ 3    │ 51001   │ Accomack   │ Virginia       │ US                   │\n",
       "│ 4    │ 16001   │ Ada        │ Idaho          │ US                   │\n",
       "│ 5    │ 19001   │ Adair      │ Iowa           │ US                   │\n",
       "│ 6    │ 29001   │ Adair      │ Missouri       │ US                   │\n",
       "│ 7    │ 40001   │ Adair      │ Oklahoma       │ US                   │\n",
       "│ 8    │ 8001    │ Adams      │ Colorado       │ US                   │\n",
       "│ 9    │ 16003   │ Adams      │ Idaho          │ US                   │\n",
       "│ 10   │ 17001   │ Adams      │ Illinois       │ US                   │\n",
       "⋮\n",
       "│ 2559 │ \u001b[90mmissing\u001b[39m │ \u001b[90mmissing\u001b[39m    │ \u001b[90mmissing\u001b[39m        │ Ukraine              │\n",
       "│ 2560 │ \u001b[90mmissing\u001b[39m │ \u001b[90mmissing\u001b[39m    │ \u001b[90mmissing\u001b[39m        │ United Arab Emirates │\n",
       "│ 2561 │ \u001b[90mmissing\u001b[39m │ \u001b[90mmissing\u001b[39m    │ \u001b[90mmissing\u001b[39m        │ United Kingdom       │\n",
       "│ 2562 │ \u001b[90mmissing\u001b[39m │ \u001b[90mmissing\u001b[39m    │ \u001b[90mmissing\u001b[39m        │ Uruguay              │\n",
       "│ 2563 │ \u001b[90mmissing\u001b[39m │ \u001b[90mmissing\u001b[39m    │ \u001b[90mmissing\u001b[39m        │ Uzbekistan           │\n",
       "│ 2564 │ \u001b[90mmissing\u001b[39m │ \u001b[90mmissing\u001b[39m    │ \u001b[90mmissing\u001b[39m        │ Venezuela            │\n",
       "│ 2565 │ \u001b[90mmissing\u001b[39m │ \u001b[90mmissing\u001b[39m    │ \u001b[90mmissing\u001b[39m        │ Vietnam              │\n",
       "│ 2566 │ \u001b[90mmissing\u001b[39m │ \u001b[90mmissing\u001b[39m    │ \u001b[90mmissing\u001b[39m        │ West Bank and Gaza   │\n",
       "│ 2567 │ \u001b[90mmissing\u001b[39m │ \u001b[90mmissing\u001b[39m    │ \u001b[90mmissing\u001b[39m        │ Zambia               │\n",
       "│ 2568 │ \u001b[90mmissing\u001b[39m │ \u001b[90mmissing\u001b[39m    │ \u001b[90mmissing\u001b[39m        │ Zimbabwe             │\n",
       "│ 2569 │ \u001b[90mmissing\u001b[39m │ unassigned │ Wyoming        │ US                   │"
      ]
     },
     "execution_count": 7,
     "metadata": {},
     "output_type": "execute_result"
    }
   ],
   "source": [
    "df = CSV.read(\"04-02-2020.csv\")"
   ]
  },
  {
   "cell_type": "code",
   "execution_count": 35,
   "metadata": {
    "colab": {},
    "colab_type": "code",
    "id": "XFKjf3bVl4ih"
   },
   "outputs": [
    {
     "name": "stdout",
     "output_type": "stream",
     "text": [
      "10×6 DataFrame. Omitted printing of 1 columns\n",
      "│ Row │ Province_State │ Country_Region │ Confirmed │ Deaths │ Recovered │\n",
      "│     │ \u001b[90mString⍰\u001b[39m        │ \u001b[90mString\u001b[39m         │ \u001b[90mInt64\u001b[39m     │ \u001b[90mInt64\u001b[39m  │ \u001b[90mInt64\u001b[39m     │\n",
      "├─────┼────────────────┼────────────────┼───────────┼────────┼───────────┤\n",
      "│ 1   │ \u001b[90mmissing\u001b[39m        │ Italy          │ 115242    │ 13915  │ 18278     │\n",
      "│ 2   │ \u001b[90mmissing\u001b[39m        │ Spain          │ 112065    │ 10348  │ 26743     │\n",
      "│ 3   │ \u001b[90mmissing\u001b[39m        │ Germany        │ 84794     │ 1107   │ 22440     │\n",
      "│ 4   │ Hubei          │ China          │ 67802     │ 3199   │ 63471     │\n",
      "│ 5   │ \u001b[90mmissing\u001b[39m        │ France         │ 59105     │ 5387   │ 12428     │\n",
      "│ 6   │ New York       │ US             │ 51809     │ 1397   │ 0         │\n",
      "│ 7   │ \u001b[90mmissing\u001b[39m        │ Iran           │ 50468     │ 3160   │ 16711     │\n",
      "│ 8   │ \u001b[90mmissing\u001b[39m        │ United Kingdom │ 33718     │ 2921   │ 135       │\n",
      "│ 9   │ \u001b[90mmissing\u001b[39m        │ Switzerland    │ 18827     │ 536    │ 4013      │\n",
      "│ 10  │ \u001b[90mmissing\u001b[39m        │ Turkey         │ 18135     │ 356    │ 415       │"
     ]
    }
   ],
   "source": [
    "# 請在此輸入程式碼\n",
    "#show(sort(df, :Confirmed, rev=true)[1:10, [3, 4, 8, 9, 10, 11]])\n",
    "#show(sort(df, :Confirmed, rev=true)[1:10,[:Province_State, :Country_Region, :Confirmed, :Deaths, :Recovered]])\n",
    "show(sort!(df[:, [3, 4, 8, 9, 10, 11]], :Confirmed, rev=true)[1:10,:])"
   ]
  },
  {
   "cell_type": "code",
   "execution_count": null,
   "metadata": {},
   "outputs": [],
   "source": []
  }
 ],
 "metadata": {
  "colab": {
   "name": "julia_019_hw.ipynb",
   "provenance": []
  },
  "kernelspec": {
   "display_name": "Julia 1.2.0",
   "language": "julia",
   "name": "julia-1.2"
  },
  "language_info": {
   "file_extension": ".jl",
   "mimetype": "application/julia",
   "name": "julia",
   "version": "1.2.0"
  }
 },
 "nbformat": 4,
 "nbformat_minor": 4
}
