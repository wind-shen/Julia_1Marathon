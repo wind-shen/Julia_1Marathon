{
 "cells": [
  {
   "cell_type": "markdown",
   "metadata": {},
   "source": [
    "# Julia 機器學習：GLM 線性迴歸\n",
    "\n",
    "## 作業 027：波士頓房價預測資料集\n",
    "\n",
    "請使用 GLM 中的模型，建立一個預測模型來預測波士頓的房價。"
   ]
  },
  {
   "cell_type": "code",
   "execution_count": 1,
   "metadata": {},
   "outputs": [],
   "source": [
    "using GLM, RDatasets, MLDataUtils"
   ]
  },
  {
   "cell_type": "markdown",
   "metadata": {},
   "source": [
    "## 讀取資料"
   ]
  },
  {
   "cell_type": "code",
   "execution_count": 2,
   "metadata": {},
   "outputs": [
    {
     "data": {
      "text/html": [
       "<table class=\"data-frame\"><thead><tr><th></th><th>Crim</th><th>Zn</th><th>Indus</th><th>Chas</th><th>NOx</th><th>Rm</th><th>Age</th><th>Dis</th><th>Rad</th><th>Tax</th></tr><tr><th></th><th>Float64</th><th>Float64</th><th>Float64</th><th>Int64</th><th>Float64</th><th>Float64</th><th>Float64</th><th>Float64</th><th>Int64</th><th>Int64</th></tr></thead><tbody><p>10 rows × 14 columns (omitted printing of 4 columns)</p><tr><th>1</th><td>0.00632</td><td>18.0</td><td>2.31</td><td>0</td><td>0.538</td><td>6.575</td><td>65.2</td><td>4.09</td><td>1</td><td>296</td></tr><tr><th>2</th><td>0.02731</td><td>0.0</td><td>7.07</td><td>0</td><td>0.469</td><td>6.421</td><td>78.9</td><td>4.9671</td><td>2</td><td>242</td></tr><tr><th>3</th><td>0.02729</td><td>0.0</td><td>7.07</td><td>0</td><td>0.469</td><td>7.185</td><td>61.1</td><td>4.9671</td><td>2</td><td>242</td></tr><tr><th>4</th><td>0.03237</td><td>0.0</td><td>2.18</td><td>0</td><td>0.458</td><td>6.998</td><td>45.8</td><td>6.0622</td><td>3</td><td>222</td></tr><tr><th>5</th><td>0.06905</td><td>0.0</td><td>2.18</td><td>0</td><td>0.458</td><td>7.147</td><td>54.2</td><td>6.0622</td><td>3</td><td>222</td></tr><tr><th>6</th><td>0.02985</td><td>0.0</td><td>2.18</td><td>0</td><td>0.458</td><td>6.43</td><td>58.7</td><td>6.0622</td><td>3</td><td>222</td></tr><tr><th>7</th><td>0.08829</td><td>12.5</td><td>7.87</td><td>0</td><td>0.524</td><td>6.012</td><td>66.6</td><td>5.5605</td><td>5</td><td>311</td></tr><tr><th>8</th><td>0.14455</td><td>12.5</td><td>7.87</td><td>0</td><td>0.524</td><td>6.172</td><td>96.1</td><td>5.9505</td><td>5</td><td>311</td></tr><tr><th>9</th><td>0.21124</td><td>12.5</td><td>7.87</td><td>0</td><td>0.524</td><td>5.631</td><td>100.0</td><td>6.0821</td><td>5</td><td>311</td></tr><tr><th>10</th><td>0.17004</td><td>12.5</td><td>7.87</td><td>0</td><td>0.524</td><td>6.004</td><td>85.9</td><td>6.5921</td><td>5</td><td>311</td></tr></tbody></table>"
      ],
      "text/latex": [
       "\\begin{tabular}{r|ccccccccccc}\n",
       "\t& Crim & Zn & Indus & Chas & NOx & Rm & Age & Dis & Rad & Tax & \\\\\n",
       "\t\\hline\n",
       "\t& Float64 & Float64 & Float64 & Int64 & Float64 & Float64 & Float64 & Float64 & Int64 & Int64 & \\\\\n",
       "\t\\hline\n",
       "\t1 & 0.00632 & 18.0 & 2.31 & 0 & 0.538 & 6.575 & 65.2 & 4.09 & 1 & 296 & $\\dots$ \\\\\n",
       "\t2 & 0.02731 & 0.0 & 7.07 & 0 & 0.469 & 6.421 & 78.9 & 4.9671 & 2 & 242 & $\\dots$ \\\\\n",
       "\t3 & 0.02729 & 0.0 & 7.07 & 0 & 0.469 & 7.185 & 61.1 & 4.9671 & 2 & 242 & $\\dots$ \\\\\n",
       "\t4 & 0.03237 & 0.0 & 2.18 & 0 & 0.458 & 6.998 & 45.8 & 6.0622 & 3 & 222 & $\\dots$ \\\\\n",
       "\t5 & 0.06905 & 0.0 & 2.18 & 0 & 0.458 & 7.147 & 54.2 & 6.0622 & 3 & 222 & $\\dots$ \\\\\n",
       "\t6 & 0.02985 & 0.0 & 2.18 & 0 & 0.458 & 6.43 & 58.7 & 6.0622 & 3 & 222 & $\\dots$ \\\\\n",
       "\t7 & 0.08829 & 12.5 & 7.87 & 0 & 0.524 & 6.012 & 66.6 & 5.5605 & 5 & 311 & $\\dots$ \\\\\n",
       "\t8 & 0.14455 & 12.5 & 7.87 & 0 & 0.524 & 6.172 & 96.1 & 5.9505 & 5 & 311 & $\\dots$ \\\\\n",
       "\t9 & 0.21124 & 12.5 & 7.87 & 0 & 0.524 & 5.631 & 100.0 & 6.0821 & 5 & 311 & $\\dots$ \\\\\n",
       "\t10 & 0.17004 & 12.5 & 7.87 & 0 & 0.524 & 6.004 & 85.9 & 6.5921 & 5 & 311 & $\\dots$ \\\\\n",
       "\\end{tabular}\n"
      ],
      "text/plain": [
       "10×14 DataFrame. Omitted printing of 7 columns\n",
       "│ Row │ Crim    │ Zn      │ Indus   │ Chas  │ NOx     │ Rm      │ Age     │\n",
       "│     │ \u001b[90mFloat64\u001b[39m │ \u001b[90mFloat64\u001b[39m │ \u001b[90mFloat64\u001b[39m │ \u001b[90mInt64\u001b[39m │ \u001b[90mFloat64\u001b[39m │ \u001b[90mFloat64\u001b[39m │ \u001b[90mFloat64\u001b[39m │\n",
       "├─────┼─────────┼─────────┼─────────┼───────┼─────────┼─────────┼─────────┤\n",
       "│ 1   │ 0.00632 │ 18.0    │ 2.31    │ 0     │ 0.538   │ 6.575   │ 65.2    │\n",
       "│ 2   │ 0.02731 │ 0.0     │ 7.07    │ 0     │ 0.469   │ 6.421   │ 78.9    │\n",
       "│ 3   │ 0.02729 │ 0.0     │ 7.07    │ 0     │ 0.469   │ 7.185   │ 61.1    │\n",
       "│ 4   │ 0.03237 │ 0.0     │ 2.18    │ 0     │ 0.458   │ 6.998   │ 45.8    │\n",
       "│ 5   │ 0.06905 │ 0.0     │ 2.18    │ 0     │ 0.458   │ 7.147   │ 54.2    │\n",
       "│ 6   │ 0.02985 │ 0.0     │ 2.18    │ 0     │ 0.458   │ 6.43    │ 58.7    │\n",
       "│ 7   │ 0.08829 │ 12.5    │ 7.87    │ 0     │ 0.524   │ 6.012   │ 66.6    │\n",
       "│ 8   │ 0.14455 │ 12.5    │ 7.87    │ 0     │ 0.524   │ 6.172   │ 96.1    │\n",
       "│ 9   │ 0.21124 │ 12.5    │ 7.87    │ 0     │ 0.524   │ 5.631   │ 100.0   │\n",
       "│ 10  │ 0.17004 │ 12.5    │ 7.87    │ 0     │ 0.524   │ 6.004   │ 85.9    │"
      ]
     },
     "execution_count": 2,
     "metadata": {},
     "output_type": "execute_result"
    }
   ],
   "source": [
    "boston = dataset(\"MASS\", \"Boston\")\n",
    "first(boston, 10)"
   ]
  },
  {
   "cell_type": "markdown",
   "metadata": {},
   "source": [
    "## 轉換資料"
   ]
  },
  {
   "cell_type": "code",
   "execution_count": 3,
   "metadata": {},
   "outputs": [
    {
     "data": {
      "text/plain": [
       "506-element Array{Float64,1}:\n",
       " 3.1780538303479458\n",
       " 3.0726933146901194\n",
       " 3.5467396869528134\n",
       " 3.5085558999826545\n",
       " 3.5890591188317256\n",
       " 3.3568971227655755\n",
       " 3.131136910560194\n",
       " 3.299533727885655\n",
       " 2.803360380906535\n",
       " 2.9391619220655967\n",
       " 2.70805020110221\n",
       " 2.9391619220655967\n",
       " 3.077312260546414\n",
       " ⋮\n",
       " 3.1986731175506815\n",
       " 3.139832617527748\n",
       " 2.9806186357439426\n",
       " 2.9069010598473755\n",
       " 3.054001181677967\n",
       " 2.8622008809294686\n",
       " 2.8213788864092133\n",
       " 3.109060958860994\n",
       " 3.0252910757955354\n",
       " 3.173878458937465\n",
       " 3.091042453358316\n",
       " 2.4765384001174837"
      ]
     },
     "execution_count": 3,
     "metadata": {},
     "output_type": "execute_result"
    }
   ],
   "source": [
    "boston[!, :LogMedV] = log.(boston[!, :MedV])"
   ]
  },
  {
   "cell_type": "markdown",
   "metadata": {},
   "source": [
    "## 訓練與測試資料集"
   ]
  },
  {
   "cell_type": "code",
   "execution_count": 4,
   "metadata": {},
   "outputs": [],
   "source": [
    "indecies = MLDataUtils.shuffleobs(collect(1:nrow(boston)))\n",
    "train_ind, test_ind = MLDataUtils.splitobs(indecies, at = 0.8);"
   ]
  },
  {
   "cell_type": "code",
   "execution_count": 5,
   "metadata": {},
   "outputs": [
    {
     "data": {
      "text/html": [
       "<table class=\"data-frame\"><thead><tr><th></th><th>Crim</th><th>Zn</th><th>Indus</th><th>Chas</th><th>NOx</th><th>Rm</th><th>Age</th><th>Dis</th><th>Rad</th><th>Tax</th></tr><tr><th></th><th>Float64</th><th>Float64</th><th>Float64</th><th>Int64</th><th>Float64</th><th>Float64</th><th>Float64</th><th>Float64</th><th>Int64</th><th>Int64</th></tr></thead><tbody><p>101 rows × 15 columns (omitted printing of 5 columns)</p><tr><th>1</th><td>0.21038</td><td>20.0</td><td>3.33</td><td>0</td><td>0.4429</td><td>6.812</td><td>32.2</td><td>4.1007</td><td>5</td><td>216</td></tr><tr><th>2</th><td>0.00906</td><td>90.0</td><td>2.97</td><td>0</td><td>0.4</td><td>7.088</td><td>20.8</td><td>7.3073</td><td>1</td><td>285</td></tr><tr><th>3</th><td>0.06162</td><td>0.0</td><td>4.39</td><td>0</td><td>0.442</td><td>5.898</td><td>52.3</td><td>8.0136</td><td>3</td><td>352</td></tr><tr><th>4</th><td>88.9762</td><td>0.0</td><td>18.1</td><td>0</td><td>0.671</td><td>6.968</td><td>91.9</td><td>1.4165</td><td>24</td><td>666</td></tr><tr><th>5</th><td>0.01965</td><td>80.0</td><td>1.76</td><td>0</td><td>0.385</td><td>6.23</td><td>31.5</td><td>9.0892</td><td>1</td><td>241</td></tr><tr><th>6</th><td>0.06129</td><td>20.0</td><td>3.33</td><td>1</td><td>0.4429</td><td>7.645</td><td>49.7</td><td>5.2119</td><td>5</td><td>216</td></tr><tr><th>7</th><td>0.09103</td><td>0.0</td><td>2.46</td><td>0</td><td>0.488</td><td>7.155</td><td>92.2</td><td>2.7006</td><td>3</td><td>193</td></tr><tr><th>8</th><td>0.11132</td><td>0.0</td><td>27.74</td><td>0</td><td>0.609</td><td>5.983</td><td>83.5</td><td>2.1099</td><td>4</td><td>711</td></tr><tr><th>9</th><td>0.34006</td><td>0.0</td><td>21.89</td><td>0</td><td>0.624</td><td>6.458</td><td>98.9</td><td>2.1185</td><td>4</td><td>437</td></tr><tr><th>10</th><td>0.06047</td><td>0.0</td><td>2.46</td><td>0</td><td>0.488</td><td>6.153</td><td>68.8</td><td>3.2797</td><td>3</td><td>193</td></tr><tr><th>11</th><td>67.9208</td><td>0.0</td><td>18.1</td><td>0</td><td>0.693</td><td>5.683</td><td>100.0</td><td>1.4254</td><td>24</td><td>666</td></tr><tr><th>12</th><td>0.30347</td><td>0.0</td><td>7.38</td><td>0</td><td>0.493</td><td>6.312</td><td>28.9</td><td>5.4159</td><td>5</td><td>287</td></tr><tr><th>13</th><td>0.05644</td><td>40.0</td><td>6.41</td><td>1</td><td>0.447</td><td>6.758</td><td>32.9</td><td>4.0776</td><td>4</td><td>254</td></tr><tr><th>14</th><td>0.3494</td><td>0.0</td><td>9.9</td><td>0</td><td>0.544</td><td>5.972</td><td>76.7</td><td>3.1025</td><td>4</td><td>304</td></tr><tr><th>15</th><td>0.13058</td><td>0.0</td><td>10.01</td><td>0</td><td>0.547</td><td>5.872</td><td>73.1</td><td>2.4775</td><td>6</td><td>432</td></tr><tr><th>16</th><td>0.15876</td><td>0.0</td><td>10.81</td><td>0</td><td>0.413</td><td>5.961</td><td>17.5</td><td>5.2873</td><td>4</td><td>305</td></tr><tr><th>17</th><td>2.37857</td><td>0.0</td><td>18.1</td><td>0</td><td>0.583</td><td>5.871</td><td>41.9</td><td>3.724</td><td>24</td><td>666</td></tr><tr><th>18</th><td>24.8017</td><td>0.0</td><td>18.1</td><td>0</td><td>0.693</td><td>5.349</td><td>96.0</td><td>1.7028</td><td>24</td><td>666</td></tr><tr><th>19</th><td>6.39312</td><td>0.0</td><td>18.1</td><td>0</td><td>0.584</td><td>6.162</td><td>97.4</td><td>2.206</td><td>24</td><td>666</td></tr><tr><th>20</th><td>9.72418</td><td>0.0</td><td>18.1</td><td>0</td><td>0.74</td><td>6.406</td><td>97.2</td><td>2.0651</td><td>24</td><td>666</td></tr><tr><th>21</th><td>0.32264</td><td>0.0</td><td>21.89</td><td>0</td><td>0.624</td><td>5.942</td><td>93.5</td><td>1.9669</td><td>4</td><td>437</td></tr><tr><th>22</th><td>0.26169</td><td>0.0</td><td>9.9</td><td>0</td><td>0.544</td><td>6.023</td><td>90.4</td><td>2.834</td><td>4</td><td>304</td></tr><tr><th>23</th><td>0.06905</td><td>0.0</td><td>2.18</td><td>0</td><td>0.458</td><td>7.147</td><td>54.2</td><td>6.0622</td><td>3</td><td>222</td></tr><tr><th>24</th><td>0.2909</td><td>0.0</td><td>21.89</td><td>0</td><td>0.624</td><td>6.174</td><td>93.6</td><td>1.6119</td><td>4</td><td>437</td></tr><tr><th>25</th><td>0.09068</td><td>45.0</td><td>3.44</td><td>0</td><td>0.437</td><td>6.951</td><td>21.5</td><td>6.4798</td><td>5</td><td>398</td></tr><tr><th>26</th><td>0.37578</td><td>0.0</td><td>10.59</td><td>1</td><td>0.489</td><td>5.404</td><td>88.6</td><td>3.665</td><td>4</td><td>277</td></tr><tr><th>27</th><td>9.91655</td><td>0.0</td><td>18.1</td><td>0</td><td>0.693</td><td>5.852</td><td>77.8</td><td>1.5004</td><td>24</td><td>666</td></tr><tr><th>28</th><td>0.62356</td><td>0.0</td><td>6.2</td><td>1</td><td>0.507</td><td>6.879</td><td>77.7</td><td>3.2721</td><td>8</td><td>307</td></tr><tr><th>29</th><td>0.22876</td><td>0.0</td><td>8.56</td><td>0</td><td>0.52</td><td>6.405</td><td>85.4</td><td>2.7147</td><td>5</td><td>384</td></tr><tr><th>30</th><td>0.04379</td><td>80.0</td><td>3.37</td><td>0</td><td>0.398</td><td>5.787</td><td>31.1</td><td>6.6115</td><td>4</td><td>337</td></tr><tr><th>&vellip;</th><td>&vellip;</td><td>&vellip;</td><td>&vellip;</td><td>&vellip;</td><td>&vellip;</td><td>&vellip;</td><td>&vellip;</td><td>&vellip;</td><td>&vellip;</td><td>&vellip;</td></tr></tbody></table>"
      ],
      "text/latex": [
       "\\begin{tabular}{r|ccccccccccc}\n",
       "\t& Crim & Zn & Indus & Chas & NOx & Rm & Age & Dis & Rad & Tax & \\\\\n",
       "\t\\hline\n",
       "\t& Float64 & Float64 & Float64 & Int64 & Float64 & Float64 & Float64 & Float64 & Int64 & Int64 & \\\\\n",
       "\t\\hline\n",
       "\t1 & 0.21038 & 20.0 & 3.33 & 0 & 0.4429 & 6.812 & 32.2 & 4.1007 & 5 & 216 & $\\dots$ \\\\\n",
       "\t2 & 0.00906 & 90.0 & 2.97 & 0 & 0.4 & 7.088 & 20.8 & 7.3073 & 1 & 285 & $\\dots$ \\\\\n",
       "\t3 & 0.06162 & 0.0 & 4.39 & 0 & 0.442 & 5.898 & 52.3 & 8.0136 & 3 & 352 & $\\dots$ \\\\\n",
       "\t4 & 88.9762 & 0.0 & 18.1 & 0 & 0.671 & 6.968 & 91.9 & 1.4165 & 24 & 666 & $\\dots$ \\\\\n",
       "\t5 & 0.01965 & 80.0 & 1.76 & 0 & 0.385 & 6.23 & 31.5 & 9.0892 & 1 & 241 & $\\dots$ \\\\\n",
       "\t6 & 0.06129 & 20.0 & 3.33 & 1 & 0.4429 & 7.645 & 49.7 & 5.2119 & 5 & 216 & $\\dots$ \\\\\n",
       "\t7 & 0.09103 & 0.0 & 2.46 & 0 & 0.488 & 7.155 & 92.2 & 2.7006 & 3 & 193 & $\\dots$ \\\\\n",
       "\t8 & 0.11132 & 0.0 & 27.74 & 0 & 0.609 & 5.983 & 83.5 & 2.1099 & 4 & 711 & $\\dots$ \\\\\n",
       "\t9 & 0.34006 & 0.0 & 21.89 & 0 & 0.624 & 6.458 & 98.9 & 2.1185 & 4 & 437 & $\\dots$ \\\\\n",
       "\t10 & 0.06047 & 0.0 & 2.46 & 0 & 0.488 & 6.153 & 68.8 & 3.2797 & 3 & 193 & $\\dots$ \\\\\n",
       "\t11 & 67.9208 & 0.0 & 18.1 & 0 & 0.693 & 5.683 & 100.0 & 1.4254 & 24 & 666 & $\\dots$ \\\\\n",
       "\t12 & 0.30347 & 0.0 & 7.38 & 0 & 0.493 & 6.312 & 28.9 & 5.4159 & 5 & 287 & $\\dots$ \\\\\n",
       "\t13 & 0.05644 & 40.0 & 6.41 & 1 & 0.447 & 6.758 & 32.9 & 4.0776 & 4 & 254 & $\\dots$ \\\\\n",
       "\t14 & 0.3494 & 0.0 & 9.9 & 0 & 0.544 & 5.972 & 76.7 & 3.1025 & 4 & 304 & $\\dots$ \\\\\n",
       "\t15 & 0.13058 & 0.0 & 10.01 & 0 & 0.547 & 5.872 & 73.1 & 2.4775 & 6 & 432 & $\\dots$ \\\\\n",
       "\t16 & 0.15876 & 0.0 & 10.81 & 0 & 0.413 & 5.961 & 17.5 & 5.2873 & 4 & 305 & $\\dots$ \\\\\n",
       "\t17 & 2.37857 & 0.0 & 18.1 & 0 & 0.583 & 5.871 & 41.9 & 3.724 & 24 & 666 & $\\dots$ \\\\\n",
       "\t18 & 24.8017 & 0.0 & 18.1 & 0 & 0.693 & 5.349 & 96.0 & 1.7028 & 24 & 666 & $\\dots$ \\\\\n",
       "\t19 & 6.39312 & 0.0 & 18.1 & 0 & 0.584 & 6.162 & 97.4 & 2.206 & 24 & 666 & $\\dots$ \\\\\n",
       "\t20 & 9.72418 & 0.0 & 18.1 & 0 & 0.74 & 6.406 & 97.2 & 2.0651 & 24 & 666 & $\\dots$ \\\\\n",
       "\t21 & 0.32264 & 0.0 & 21.89 & 0 & 0.624 & 5.942 & 93.5 & 1.9669 & 4 & 437 & $\\dots$ \\\\\n",
       "\t22 & 0.26169 & 0.0 & 9.9 & 0 & 0.544 & 6.023 & 90.4 & 2.834 & 4 & 304 & $\\dots$ \\\\\n",
       "\t23 & 0.06905 & 0.0 & 2.18 & 0 & 0.458 & 7.147 & 54.2 & 6.0622 & 3 & 222 & $\\dots$ \\\\\n",
       "\t24 & 0.2909 & 0.0 & 21.89 & 0 & 0.624 & 6.174 & 93.6 & 1.6119 & 4 & 437 & $\\dots$ \\\\\n",
       "\t25 & 0.09068 & 45.0 & 3.44 & 0 & 0.437 & 6.951 & 21.5 & 6.4798 & 5 & 398 & $\\dots$ \\\\\n",
       "\t26 & 0.37578 & 0.0 & 10.59 & 1 & 0.489 & 5.404 & 88.6 & 3.665 & 4 & 277 & $\\dots$ \\\\\n",
       "\t27 & 9.91655 & 0.0 & 18.1 & 0 & 0.693 & 5.852 & 77.8 & 1.5004 & 24 & 666 & $\\dots$ \\\\\n",
       "\t28 & 0.62356 & 0.0 & 6.2 & 1 & 0.507 & 6.879 & 77.7 & 3.2721 & 8 & 307 & $\\dots$ \\\\\n",
       "\t29 & 0.22876 & 0.0 & 8.56 & 0 & 0.52 & 6.405 & 85.4 & 2.7147 & 5 & 384 & $\\dots$ \\\\\n",
       "\t30 & 0.04379 & 80.0 & 3.37 & 0 & 0.398 & 5.787 & 31.1 & 6.6115 & 4 & 337 & $\\dots$ \\\\\n",
       "\t$\\dots$ & $\\dots$ & $\\dots$ & $\\dots$ & $\\dots$ & $\\dots$ & $\\dots$ & $\\dots$ & $\\dots$ & $\\dots$ & $\\dots$ &  \\\\\n",
       "\\end{tabular}\n"
      ],
      "text/plain": [
       "101×15 DataFrame. Omitted printing of 8 columns\n",
       "│ Row │ Crim    │ Zn      │ Indus   │ Chas  │ NOx     │ Rm      │ Age     │\n",
       "│     │ \u001b[90mFloat64\u001b[39m │ \u001b[90mFloat64\u001b[39m │ \u001b[90mFloat64\u001b[39m │ \u001b[90mInt64\u001b[39m │ \u001b[90mFloat64\u001b[39m │ \u001b[90mFloat64\u001b[39m │ \u001b[90mFloat64\u001b[39m │\n",
       "├─────┼─────────┼─────────┼─────────┼───────┼─────────┼─────────┼─────────┤\n",
       "│ 1   │ 0.21038 │ 20.0    │ 3.33    │ 0     │ 0.4429  │ 6.812   │ 32.2    │\n",
       "│ 2   │ 0.00906 │ 90.0    │ 2.97    │ 0     │ 0.4     │ 7.088   │ 20.8    │\n",
       "│ 3   │ 0.06162 │ 0.0     │ 4.39    │ 0     │ 0.442   │ 5.898   │ 52.3    │\n",
       "│ 4   │ 88.9762 │ 0.0     │ 18.1    │ 0     │ 0.671   │ 6.968   │ 91.9    │\n",
       "│ 5   │ 0.01965 │ 80.0    │ 1.76    │ 0     │ 0.385   │ 6.23    │ 31.5    │\n",
       "│ 6   │ 0.06129 │ 20.0    │ 3.33    │ 1     │ 0.4429  │ 7.645   │ 49.7    │\n",
       "│ 7   │ 0.09103 │ 0.0     │ 2.46    │ 0     │ 0.488   │ 7.155   │ 92.2    │\n",
       "│ 8   │ 0.11132 │ 0.0     │ 27.74   │ 0     │ 0.609   │ 5.983   │ 83.5    │\n",
       "│ 9   │ 0.34006 │ 0.0     │ 21.89   │ 0     │ 0.624   │ 6.458   │ 98.9    │\n",
       "│ 10  │ 0.06047 │ 0.0     │ 2.46    │ 0     │ 0.488   │ 6.153   │ 68.8    │\n",
       "⋮\n",
       "│ 91  │ 20.7162 │ 0.0     │ 18.1    │ 0     │ 0.659   │ 4.138   │ 100.0   │\n",
       "│ 92  │ 4.81213 │ 0.0     │ 18.1    │ 0     │ 0.713   │ 6.701   │ 90.0    │\n",
       "│ 93  │ 0.12802 │ 0.0     │ 8.56    │ 0     │ 0.52    │ 6.474   │ 97.1    │\n",
       "│ 94  │ 0.0686  │ 0.0     │ 2.89    │ 0     │ 0.445   │ 7.416   │ 62.5    │\n",
       "│ 95  │ 11.1604 │ 0.0     │ 18.1    │ 0     │ 0.74    │ 6.629   │ 94.6    │\n",
       "│ 96  │ 0.05561 │ 70.0    │ 2.24    │ 0     │ 0.4     │ 7.041   │ 10.0    │\n",
       "│ 97  │ 5.73116 │ 0.0     │ 18.1    │ 0     │ 0.532   │ 7.061   │ 77.0    │\n",
       "│ 98  │ 20.0849 │ 0.0     │ 18.1    │ 0     │ 0.7     │ 4.368   │ 91.2    │\n",
       "│ 99  │ 0.03466 │ 35.0    │ 6.06    │ 0     │ 0.4379  │ 6.031   │ 23.3    │\n",
       "│ 100 │ 0.04527 │ 0.0     │ 11.93   │ 0     │ 0.573   │ 6.12    │ 76.7    │\n",
       "│ 101 │ 1.35472 │ 0.0     │ 8.14    │ 0     │ 0.538   │ 6.072   │ 100.0   │"
      ]
     },
     "execution_count": 5,
     "metadata": {},
     "output_type": "execute_result"
    }
   ],
   "source": [
    "train = boston[train_ind, :]\n",
    "test = boston[test_ind, :]"
   ]
  },
  {
   "cell_type": "markdown",
   "metadata": {},
   "source": [
    "## 使用線性迴歸模型"
   ]
  },
  {
   "cell_type": "code",
   "execution_count": 6,
   "metadata": {},
   "outputs": [
    {
     "data": {
      "text/plain": [
       "StatsModels.TableRegressionModel{LinearModel{GLM.LmResp{Array{Float64,1}},GLM.DensePredChol{Float64,LinearAlgebra.Cholesky{Float64,Array{Float64,2}}}},Array{Float64,2}}\n",
       "\n",
       "LogMedV ~ 1 + Crim + Chas + NOx + Rm + Dis + Rad + Tax + PTRatio + Black + LStat\n",
       "\n",
       "Coefficients:\n",
       "───────────────────────────────────────────────────────────────────────────────────────\n",
       "                 Estimate   Std. Error    t value  Pr(>|t|)     Lower 95%     Upper 95%\n",
       "───────────────────────────────────────────────────────────────────────────────────────\n",
       "(Intercept)   4.13296      0.226896      18.2152     <1e-53   3.68689       4.57904\n",
       "Crim         -0.00823228   0.00181616    -4.53279    <1e-5   -0.0118029    -0.0046617\n",
       "Chas          0.107854     0.0373998      2.88381    0.0041   0.0343258     0.181382\n",
       "NOx          -0.698663     0.151816      -4.60205    <1e-5   -0.997132     -0.400193\n",
       "Rm            0.0842509    0.0177436      4.74825    <1e-5    0.049367      0.119135\n",
       "Dis          -0.0418938    0.00708269    -5.91495    <1e-8   -0.0558184    -0.0279692\n",
       "Rad           0.0146924    0.00283683     5.17918    <1e-6    0.00911522    0.0202696\n",
       "Tax          -0.000571337  0.000147347   -3.8775     0.0001  -0.000861021  -0.000281653\n",
       "PTRatio      -0.0420066    0.00529341    -7.93565    <1e-13  -0.0524135    -0.0315998\n",
       "Black         0.000542725  0.00012048     4.50468    <1e-5    0.00030586    0.000779589\n",
       "LStat        -0.0305277    0.0020433    -14.9404     <1e-39  -0.0345448    -0.0265106\n",
       "───────────────────────────────────────────────────────────────────────────────────────"
      ]
     },
     "execution_count": 6,
     "metadata": {},
     "output_type": "execute_result"
    }
   ],
   "source": [
    "model = lm(@formula(LogMedV ~ Crim + Chas + NOx + Rm + Dis + Rad + Tax + PTRatio + Black + LStat), train)"
   ]
  },
  {
   "cell_type": "markdown",
   "metadata": {},
   "source": [
    "## 預測"
   ]
  },
  {
   "cell_type": "code",
   "execution_count": 7,
   "metadata": {},
   "outputs": [
    {
     "data": {
      "text/plain": [
       "101-element Array{Float64,1}:\n",
       " 37.16698000821248\n",
       " 27.88827621653114\n",
       " 17.273591211359612\n",
       "  9.708507428065937\n",
       " 18.37646209147955\n",
       " 44.4133115271711\n",
       " 34.253570122355406\n",
       " 15.461026650861474\n",
       " 18.13499688456796\n",
       " 23.742390244559296\n",
       "  8.496982534938871\n",
       " 24.64921505177357\n",
       " 36.913262548995384\n",
       "  ⋮\n",
       " 25.082619670017458\n",
       " 11.17036776171758\n",
       " 16.639479297863645\n",
       " 20.659693746874623\n",
       " 31.245948400597115\n",
       " 11.779712764226371\n",
       " 30.64610634228063\n",
       " 26.848530034619174\n",
       "  8.413988374221933\n",
       " 23.226916628776465\n",
       " 21.47384235527036\n",
       " 17.997012974313197"
      ]
     },
     "execution_count": 7,
     "metadata": {},
     "output_type": "execute_result"
    }
   ],
   "source": [
    "exp.(predict(model, test))"
   ]
  },
  {
   "cell_type": "markdown",
   "metadata": {},
   "source": [
    "## 評估模型"
   ]
  },
  {
   "cell_type": "code",
   "execution_count": 8,
   "metadata": {},
   "outputs": [
    {
     "data": {
      "text/plain": [
       "0.7862249645410637"
      ]
     },
     "execution_count": 8,
     "metadata": {},
     "output_type": "execute_result"
    }
   ],
   "source": [
    "adjr²(model)"
   ]
  },
  {
   "cell_type": "code",
   "execution_count": null,
   "metadata": {},
   "outputs": [],
   "source": []
  }
 ],
 "metadata": {
  "kernelspec": {
   "display_name": "Julia 1.4.0",
   "language": "julia",
   "name": "julia-1.4"
  },
  "language_info": {
   "file_extension": ".jl",
   "mimetype": "application/julia",
   "name": "julia",
   "version": "1.4.0"
  }
 },
 "nbformat": 4,
 "nbformat_minor": 4
}
