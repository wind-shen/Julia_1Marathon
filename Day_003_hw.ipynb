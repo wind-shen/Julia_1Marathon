{
 "cells": [
  {
   "cell_type": "markdown",
   "metadata": {
    "colab_type": "text",
    "id": "L7zmWas2bjuO"
   },
   "source": [
    "# Julia 套件管理 (Package Management)\n",
    "\n",
    "## Day 003 作業\n",
    "\n",
    "在接下來的課程中，我們還會用到許多不同套件，請在今天的作業中先行安裝下列套件：`CSV.jl` （將會在資料操作的單元介紹）。"
   ]
  },
  {
   "cell_type": "markdown",
   "metadata": {
    "colab_type": "text",
    "id": "N_wqOR1fbjuR"
   },
   "source": [
    "### 指定安裝套件及版本\n",
    "\n",
    "今日作業請以 Functional API 模式進行套件安裝，並且指定安裝 0.5.26 版。\n",
    "\n",
    "安裝完成後請呼叫 `Pkg.installed()` 函式檢查已安裝的版本。"
   ]
  },
  {
   "cell_type": "code",
   "execution_count": 1,
   "metadata": {
    "colab": {},
    "colab_type": "code",
    "id": "1AJeFvbdbjuS"
   },
   "outputs": [
    {
     "name": "stdout",
     "output_type": "stream",
     "text": [
      "\u001b[32m\u001b[1m  Updating\u001b[22m\u001b[39m registry at `C:\\Users\\winds\\.julia\\registries\\General`\n",
      "\u001b[32m\u001b[1m  Updating\u001b[22m\u001b[39m git-repo `https://github.com/JuliaRegistries/General.git`\n",
      "\u001b[2K\u001b[36m\u001b[1mFetching:\u001b[22m\u001b[39m [========================================>]  100.0 %.0 %\u001b[?25h\u001b[32m\u001b[1m Resolving\u001b[22m\u001b[39m package versions...\n",
      "\u001b[32m\u001b[1m  Updating\u001b[22m\u001b[39m `C:\\Users\\winds\\.julia\\environments\\v1.2\\Project.toml`\n",
      " \u001b[90m [336ed68f]\u001b[39m\u001b[95m ↓ CSV v0.6.0 ⇒ v0.5.26\u001b[39m\n",
      "\u001b[32m\u001b[1m  Updating\u001b[22m\u001b[39m `C:\\Users\\winds\\.julia\\environments\\v1.2\\Manifest.toml`\n",
      " \u001b[90m [336ed68f]\u001b[39m\u001b[95m ↓ CSV v0.6.0 ⇒ v0.5.26\u001b[39m\n",
      " \u001b[90m [69de0a69]\u001b[39m\u001b[95m ↓ Parsers v1.0.0 ⇒ v0.3.12\u001b[39m\n"
     ]
    }
   ],
   "source": [
    "using Pkg\n",
    "Pkg.add(PackageSpec(name=\"CSV\", version=\"0.5.26\"))"
   ]
  },
  {
   "cell_type": "markdown",
   "metadata": {
    "colab_type": "text",
    "id": "Nf5kQrNbbjuW"
   },
   "source": [
    "### 不指定安裝版本"
   ]
  },
  {
   "cell_type": "code",
   "execution_count": 2,
   "metadata": {
    "colab": {},
    "colab_type": "code",
    "id": "a6CesdGZbjuY",
    "outputId": "f61b4a0e-86ee-4c26-825e-7a3044b5c110"
   },
   "outputs": [
    {
     "name": "stderr",
     "output_type": "stream",
     "text": [
      "┌ Info: Precompiling CSV [336ed68f-0bac-5ca0-87d4-7b16caf5d00b]\n",
      "└ @ Base loading.jl:1242\n"
     ]
    },
    {
     "data": {
      "text/plain": [
       "v\"0.5.26\""
      ]
     },
     "execution_count": 2,
     "metadata": {},
     "output_type": "execute_result"
    }
   ],
   "source": [
    "using CSV\n",
    "Pkg.installed()[\"CSV\"]"
   ]
  },
  {
   "cell_type": "code",
   "execution_count": null,
   "metadata": {
    "colab": {},
    "colab_type": "code",
    "id": "PXcjFJsjbjuc"
   },
   "outputs": [],
   "source": []
  }
 ],
 "metadata": {
  "colab": {
   "name": "Day_003_hw.ipynb",
   "provenance": []
  },
  "kernelspec": {
   "display_name": "Julia 1.2.0",
   "language": "julia",
   "name": "julia-1.2"
  },
  "language_info": {
   "file_extension": ".jl",
   "mimetype": "application/julia",
   "name": "julia",
   "version": "1.2.0"
  }
 },
 "nbformat": 4,
 "nbformat_minor": 4
}
