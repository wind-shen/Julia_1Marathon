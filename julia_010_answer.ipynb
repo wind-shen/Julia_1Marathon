{
 "cells": [
  {
   "cell_type": "markdown",
   "metadata": {},
   "source": [
    "# 集合 (Collection) 型別：元組 (Tuple) 、Pair、字典 (Dict)、與 Set\n",
    "\n",
    "## Day 010 作業：計算字串中各宇元出現的次數\n",
    "\n",
    "今天的作業請大家計算字串中，各字元 (包含標點符號與換行符號) 出現的次數。範例解答將以字典 (Dict) 示範，將出現在字串中的字元作為 key，字元每出現一次就將對應的 value 次數加 1。最後，印出各字元及出現的次數。\n",
    "\n",
    "【提示】要判斷字典中某個 key 是否存在，可以呼叫 `hashkey(字典, key)`，若 key 存在的話就會回傳 `true`。使用範例請參閱官方文件 [https://docs.julialang.org/en/v1/base/collections/#Base.haskey](https://docs.julialang.org/en/v1/base/collections/#Base.haskey)"
   ]
  },
  {
   "cell_type": "code",
   "execution_count": 1,
   "metadata": {},
   "outputs": [
    {
     "data": {
      "text/plain": [
       "\"永和有永和路，中和也有永和路，\\n中和有中和路，永和也有中和路；\\n中和的中和路有接永和的中和路，\\n永和的永和路沒接中和的永和路；\\n永和的中和路有接永和的永和路，\\n中和的永和路沒接中和的中和路。\""
      ]
     },
     "execution_count": 1,
     "metadata": {},
     "output_type": "execute_result"
    }
   ],
   "source": [
    "str = \"永和有永和路，中和也有永和路，\n",
    "中和有中和路，永和也有中和路；\n",
    "中和的中和路有接永和的中和路，\n",
    "永和的永和路沒接中和的永和路；\n",
    "永和的中和路有接永和的永和路，\n",
    "中和的永和路沒接中和的中和路。\""
   ]
  },
  {
   "cell_type": "markdown",
   "metadata": {},
   "source": [
    "### 範例解答1：使用 `hashkey()` 函式判斷字元是否在字典的 key 中"
   ]
  },
  {
   "cell_type": "code",
   "execution_count": 2,
   "metadata": {},
   "outputs": [],
   "source": [
    "d = Dict{String, Int64}()\n",
    "\n",
    "for c ∈ str\n",
    "    if haskey(d, string(c))\n",
    "        d[string(c)] += 1\n",
    "    else\n",
    "        d[string(c)] = 1\n",
    "    end\n",
    "end"
   ]
  },
  {
   "cell_type": "code",
   "execution_count": 3,
   "metadata": {},
   "outputs": [
    {
     "data": {
      "text/plain": [
       "Dict{String,Int64} with 13 entries:\n",
       "  \"接\"  => 4\n",
       "  \"也\"  => 2\n",
       "  \"和\"  => 24\n",
       "  \"，\"  => 5\n",
       "  \"沒\"  => 2\n",
       "  \"永\"  => 12\n",
       "  \"的\"  => 8\n",
       "  \"中\"  => 12\n",
       "  \"路\"  => 12\n",
       "  \"；\"  => 2\n",
       "  \"。\"  => 1\n",
       "  \"有\"  => 6\n",
       "  \"\\n\" => 5"
      ]
     },
     "execution_count": 3,
     "metadata": {},
     "output_type": "execute_result"
    }
   ],
   "source": [
    "d"
   ]
  },
  {
   "cell_type": "markdown",
   "metadata": {},
   "source": [
    "### 範例解答2：呼叫 `get()` 函式\n",
    "\n",
    "在這個範例裡面 `get()` 函式的用法是：`get(字典, key, 預設值) + 1`，如果找不到對應的 key 就回傳預設值，如果找到對應的 key 就將對應的 value + 1 回傳，也就是出現次數 +1。\n",
    "\n",
    "`Base.get` 函式官方文件及範例：[https://docs.julialang.org/en/v1/base/collections/#Base.get](https://docs.julialang.org/en/v1/base/collections/#Base.get)"
   ]
  },
  {
   "cell_type": "code",
   "execution_count": 4,
   "metadata": {},
   "outputs": [],
   "source": [
    "d = Dict{String, Int64}()\n",
    "\n",
    "for c ∈ str\n",
    "    d[string(c)] = get(d, string(c), 0) + 1\n",
    "end"
   ]
  },
  {
   "cell_type": "markdown",
   "metadata": {},
   "source": [
    "下面範例是依照出現次數排序 (由多到少)，印出字典中的內容。其中使用了下列函式：\n",
    "- `values()`, `keys()`：列出字典中所有的 key 和 value\n",
    "- `Base.Iterators.zip()`：將 key 和 value 以元組 (Tuple) 回傳，請參考官方文件 [https://docs.julialang.org/en/v1/base/iterators/#Base.Iterators.zip](https://docs.julialang.org/en/v1/base/iterators/#Base.Iterators.zip)\n",
    "- `Base.collect()`：將元組轉為陣列\n",
    "- `Base.sort()`：將陣列排序，說明及範例可參考 Day 009"
   ]
  },
  {
   "cell_type": "code",
   "execution_count": 5,
   "metadata": {},
   "outputs": [
    {
     "data": {
      "text/plain": [
       "13-element Array{Tuple{Int64,String},1}:\n",
       " (24, \"和\")\n",
       " (12, \"路\")\n",
       " (12, \"永\")\n",
       " (12, \"中\")\n",
       " (8, \"的\") \n",
       " (6, \"有\") \n",
       " (5, \"，\") \n",
       " (5, \"\\n\")\n",
       " (4, \"接\") \n",
       " (2, \"；\") \n",
       " (2, \"沒\") \n",
       " (2, \"也\") \n",
       " (1, \"。\") "
      ]
     },
     "execution_count": 5,
     "metadata": {},
     "output_type": "execute_result"
    }
   ],
   "source": [
    "sort(collect(zip(values(d), keys(d))), rev=true)"
   ]
  },
  {
   "cell_type": "markdown",
   "metadata": {},
   "source": [
    "### 延伸閱讀\n",
    "\n",
    "要計算字元出現次數的方式很多，使用其他套件也可以達到相同的目的，下列範例是使用 `StatsBase` 及 `DataStructures` 的範例，同學們可以自行參考或發掘其他方式。(若未安裝這兩個套件需先安裝。)"
   ]
  },
  {
   "cell_type": "code",
   "execution_count": 6,
   "metadata": {},
   "outputs": [
    {
     "data": {
      "text/plain": [
       "Dict{Char,Int64} with 13 entries:\n",
       "  '和'  => 24\n",
       "  '有'  => 6\n",
       "  '路'  => 12\n",
       "  '。'  => 1\n",
       "  '中'  => 12\n",
       "  '也'  => 2\n",
       "  '\\n' => 5\n",
       "  '，'  => 5\n",
       "  '接'  => 4\n",
       "  '的'  => 8\n",
       "  '沒'  => 2\n",
       "  '；'  => 2\n",
       "  '永'  => 12"
      ]
     },
     "execution_count": 6,
     "metadata": {},
     "output_type": "execute_result"
    }
   ],
   "source": [
    "using StatsBase\n",
    "\n",
    "countmap([c for c in str])"
   ]
  },
  {
   "cell_type": "code",
   "execution_count": 7,
   "metadata": {},
   "outputs": [
    {
     "data": {
      "text/plain": [
       "Accumulator{Char,Int64} with 13 entries:\n",
       "  '和'  => 24\n",
       "  '有'  => 6\n",
       "  '路'  => 12\n",
       "  '。'  => 1\n",
       "  '中'  => 12\n",
       "  '也'  => 2\n",
       "  '\\n' => 5\n",
       "  '，'  => 5\n",
       "  '接'  => 4\n",
       "  '的'  => 8\n",
       "  '沒'  => 2\n",
       "  '；'  => 2\n",
       "  '永'  => 12"
      ]
     },
     "execution_count": 7,
     "metadata": {},
     "output_type": "execute_result"
    }
   ],
   "source": [
    "using DataStructures\n",
    "\n",
    "counter(str)"
   ]
  },
  {
   "cell_type": "code",
   "execution_count": null,
   "metadata": {},
   "outputs": [],
   "source": []
  }
 ],
 "metadata": {
  "@webio": {
   "lastCommId": null,
   "lastKernelId": null
  },
  "kernelspec": {
   "display_name": "Julia 1.2.0",
   "language": "julia",
   "name": "julia-1.2"
  },
  "language_info": {
   "file_extension": ".jl",
   "mimetype": "application/julia",
   "name": "julia",
   "version": "1.2.0"
  }
 },
 "nbformat": 4,
 "nbformat_minor": 4
}
